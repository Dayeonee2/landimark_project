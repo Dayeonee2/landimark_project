{
 "cells": [
  {
   "cell_type": "code",
   "execution_count": null,
   "metadata": {},
   "outputs": [],
   "source": [
    "import pandas as pd"
   ]
  },
  {
   "cell_type": "code",
   "execution_count": null,
   "metadata": {},
   "outputs": [],
   "source": [
    "# 엑셀 파일에서 질문 데이터 읽어오기\n",
    "df_test = pd.read_excel('file/test_question.xlsx')\n",
    "test_questions = df_test.groupby('label')['question'].apply(list).to_dict()\n",
    "# 데이터프레임 생성\n",
    "questions_list = []\n",
    "\n",
    "for category, questions in test_questions.items():\n",
    "    for question in questions:\n",
    "        questions_list.append({'category': category, 'question': question})\n",
    "\n",
    "df_questions = pd.DataFrame(questions_list)\n",
    "\n",
    "df_questions['category'] = df_questions['category'].str.replace(r'^\\d+\\.', '', regex=True)\n",
    "\n",
    "# 새로운 라벨\n",
    "new_labels = {\n",
    "    '대기실 및 진료실 위치 안내': 0,\n",
    "    '진료 접수 안내': 1,\n",
    "    '다음 진료실 예약': 2,\n",
    "    '수납 방법 안내': 3,\n",
    "    '약국 위치 문의': 4,\n",
    "    '증상 상담': 5,\n",
    "    '증빙 서류 발급': 6\n",
    "}\n",
    "\n",
    "# 새로운 라벨링 적용\n",
    "df_questions['label'] = df_questions['category'].map(new_labels)\n",
    "\n",
    "# 데이터프레임 확인\n",
    "df_questions.head()\n",
    "df_questions.to_csv('result csv/test_questions_with_labels.csv', index=False)"
   ]
  }
 ],
 "metadata": {
  "language_info": {
   "name": "python"
  }
 },
 "nbformat": 4,
 "nbformat_minor": 2
}
