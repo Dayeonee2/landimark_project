{
 "cells": [
  {
   "cell_type": "code",
   "execution_count": 60,
   "metadata": {},
   "outputs": [],
   "source": [
    "import pandas as pd\n",
    "\n",
    "result1 = pd.read_csv('result csv/chatbot_responses_auto.csv')\n",
    "result2 = pd.read_csv('result csv/chatbot_responses_trained.csv')\n",
    "result1 = result1.drop(columns=['max_similarity'])"
   ]
  },
  {
   "cell_type": "code",
   "execution_count": 61,
   "metadata": {},
   "outputs": [],
   "source": [
    "result2_answer = result2[['best_answer']]\n",
    "result2_answer.head()\n",
    "# 열 이름 변경\n",
    "result2_answer = result2_answer.rename(columns={\n",
    "    'best_answer': 'trained_model'\n",
    "})"
   ]
  },
  {
   "cell_type": "code",
   "execution_count": 62,
   "metadata": {},
   "outputs": [],
   "source": [
    "# 두 DataFrame을 열 방향으로 합치기\n",
    "combined_df = pd.concat([result1,result2_answer.reset_index(drop=True)], axis=1)\n",
    "combined_df.head()"
   ]
  },
  {
   "cell_type": "code",
   "execution_count": 64,
   "metadata": {},
   "outputs": [],
   "source": [
    "# 열 이름 변경\n",
    "df_renamed = combined_df.rename(columns={\n",
    "    'input_question': 'input_question',\n",
    "    'answer': 'automodel',\n",
    "    'trained_model': 'trained_model',\n",
    "})"
   ]
  },
  {
   "cell_type": "code",
   "execution_count": 65,
   "metadata": {},
   "outputs": [
    {
     "name": "stdout",
     "output_type": "stream",
     "text": [
      "PDF 파일이 output.pdf에 저장되었습니다.\n"
     ]
    }
   ],
   "source": [
    "import matplotlib.pyplot as plt\n",
    "from matplotlib.backends.backend_pdf import PdfPages\n",
    "from matplotlib import font_manager, rc\n",
    "\n",
    "# 한글 글꼴 설정 (예: 맑은 고딕)\n",
    "font_path = \"C:/Windows/Fonts/malgun.ttf\"  # 맑은 고딕의 경로 (Windows 기준)\n",
    "font_manager.fontManager.addfont(font_path)\n",
    "rc('font', family='Malgun Gothic')\n",
    "\n",
    "# 글자 수에 따라 줄바꿈 처리 함수\n",
    "def wrap_text(text, width=23):\n",
    "    if len(text) > width:\n",
    "        return '\\n'.join([text[i:i+width] for i in range(0, len(text), width)])\n",
    "    return text\n",
    "\n",
    "# 모든 질문에 대해 줄바꿈 처리\n",
    "df_renamed['input_question'] = df_renamed['input_question'].apply(wrap_text)\n",
    "df_renamed['automodel'] = df_renamed['automodel'].apply(wrap_text)\n",
    "df_renamed['trained_model'] = df_renamed['trained_model'].apply(wrap_text)\n",
    "\n",
    "# PDF 파일 저장\n",
    "pdf_file_path = 'output.pdf'\n",
    "\n",
    "# 최대 행 수 설정\n",
    "max_rows_per_page = 24\n",
    "\n",
    "# PdfPages 객체 생성\n",
    "with PdfPages(pdf_file_path) as pdf:\n",
    "    for start in range(0, len(df_renamed), max_rows_per_page):\n",
    "        end = start + max_rows_per_page\n",
    "        page_data = df_renamed[start:end]\n",
    "\n",
    "        # A4 용지 크기로 설정 (가로: 8.27, 세로: 11.69)\n",
    "        fig, ax = plt.subplots(figsize=(8.27, 14))  # A4 세로 길이 늘림\n",
    "        ax.axis('tight')\n",
    "        ax.axis('off')\n",
    "        table_data = page_data.values\n",
    "        column_labels = page_data.columns\n",
    "\n",
    "        # 테이블 생성\n",
    "        table = ax.table(cellText=table_data, colLabels=column_labels, cellLoc='center', loc='center')\n",
    "\n",
    "        # 테이블 스타일링 (선택 사항)\n",
    "        table.auto_set_font_size(False)\n",
    "        table.set_fontsize(7)\n",
    "        table.scale(1.2, 2.3)  # 테이블 크기 조정\n",
    "\n",
    "        # PDF에 저장\n",
    "        pdf.savefig(fig, bbox_inches='tight')\n",
    "        plt.close(fig)  # 플롯 닫기\n",
    "\n",
    "print(f'PDF 파일이 {pdf_file_path}에 저장되었습니다.')"
   ]
  }
 ],
 "metadata": {
  "kernelspec": {
   "display_name": "Python 3",
   "language": "python",
   "name": "python3"
  },
  "language_info": {
   "codemirror_mode": {
    "name": "ipython",
    "version": 3
   },
   "file_extension": ".py",
   "mimetype": "text/x-python",
   "name": "python",
   "nbconvert_exporter": "python",
   "pygments_lexer": "ipython3",
   "version": "3.12.4"
  }
 },
 "nbformat": 4,
 "nbformat_minor": 2
}
