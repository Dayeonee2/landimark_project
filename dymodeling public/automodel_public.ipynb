{
 "cells": [
  {
   "cell_type": "markdown",
   "metadata": {},
   "source": [
    "트레이닝 되지 않은 AutoModel, AutoTokenizer 로 pretrained된 BERT 모델을 로드하고,\n",
    "\n",
    "코사인유사도를 계산하여 코사인유사도가 가장 높은 답변을 제공합니다.\n",
    "\n",
    "임베딩은 사전 계산되어 계산 속도를 개선합니다."
   ]
  },
  {
   "cell_type": "code",
   "execution_count": 1,
   "metadata": {},
   "outputs": [],
   "source": [
    "import pandas as pd\n",
    "\n",
    "df = pd.read_csv('public_result.csv')\n",
    "df.head()\n",
    "\n",
    "# 질문 리스트\n",
    "questions = df['question'].tolist()\n",
    "answers = df['answer'].tolist()"
   ]
  },
  {
   "cell_type": "code",
   "execution_count": 2,
   "metadata": {},
   "outputs": [
    {
     "name": "stderr",
     "output_type": "stream",
     "text": [
      "c:\\Users\\user\\AppData\\Local\\Programs\\Python\\Python38\\lib\\site-packages\\tqdm\\auto.py:21: TqdmWarning: IProgress not found. Please update jupyter and ipywidgets. See https://ipywidgets.readthedocs.io/en/stable/user_install.html\n",
      "  from .autonotebook import tqdm as notebook_tqdm\n"
     ]
    },
    {
     "name": "stdout",
     "output_type": "stream",
     "text": [
      "챗봇 답변: 서류 제출 창구 번호를 확인 중입니다. 잠시만 기다려 주십시오.\n",
      "유사도: 0.8029338121414185\n"
     ]
    }
   ],
   "source": [
    "import torch\n",
    "import torch.nn.functional as F\n",
    "from transformers import AutoTokenizer, AutoModel\n",
    "\n",
    "# BERT 모델과 토크나이저 로드\n",
    "tokenizer = AutoTokenizer.from_pretrained(\"beomi/KcBERT-base\")\n",
    "model = AutoModel.from_pretrained(\"beomi/KcBERT-base\")\n",
    "\n",
    "question_embeddings = torch.load('embeddings/public_question_embeddings.pth', weights_only=True)\n",
    "\n",
    "# 입력 문장을 임베딩으로 변환\n",
    "def get_embedding(text):\n",
    "    inputs = tokenizer(text, return_tensors=\"pt\", padding=True, truncation=True)\n",
    "    with torch.no_grad():\n",
    "        outputs = model(**inputs)\n",
    "    return outputs.last_hidden_state.mean(dim=1)  # 임베딩 벡터 반환\n",
    "\n",
    "# 입력 질문과 사전 임베딩 간의 코사인 유사도 계산\n",
    "def find_most_similar_answer(input_question, question_embeddings, answers):\n",
    "    input_embedding = get_embedding(input_question)  # 입력 질문 임베딩\n",
    "\n",
    "    max_similarity = -1\n",
    "    best_answer = None\n",
    "\n",
    "    # 각 사전 계산된 질문 임베딩과 유사도 비교\n",
    "    for i, question_embedding in enumerate(question_embeddings):\n",
    "        similarity = F.cosine_similarity(input_embedding, question_embedding).item()\n",
    "\n",
    "        if similarity > max_similarity:\n",
    "            max_similarity = similarity\n",
    "            best_answer = answers[i]\n",
    "\n",
    "    return best_answer, max_similarity\n",
    "\n",
    "# 입력 질문 예시\n",
    "input_question = \"서류제출은 어디에 해?\"\n",
    "answers = df['answer'].tolist()\n",
    "\n",
    "# 유사도 기반 답변 찾기\n",
    "answer, max_similarity = find_most_similar_answer(input_question, question_embeddings, answers)\n",
    "print(\"챗봇 답변:\", answer)\n",
    "print(\"유사도:\", max_similarity)\n"
   ]
  },
  {
   "cell_type": "code",
   "execution_count": 3,
   "metadata": {},
   "outputs": [
    {
     "name": "stdout",
     "output_type": "stream",
     "text": [
      "챗봇 답변: 기본 증명서, 가족관계증명서, 부모 가족관계증명서, 자녀 가족관계증명서, 주민등록등본, 소명자료를 내셔야 합니다.\n",
      "유사도: 0.7472295761108398\n"
     ]
    }
   ],
   "source": [
    "input_question = \"서류제출은 어디?\"\n",
    "answers = df['answer'].tolist()\n",
    "\n",
    "# 유사도 기반 답변 찾기\n",
    "answer, max_similarity = find_most_similar_answer(input_question, question_embeddings, answers)\n",
    "print(\"챗봇 답변:\", answer)\n",
    "print(\"유사도:\", max_similarity)"
   ]
  }
 ],
 "metadata": {
  "kernelspec": {
   "display_name": "Python 3",
   "language": "python",
   "name": "python3"
  },
  "language_info": {
   "codemirror_mode": {
    "name": "ipython",
    "version": 3
   },
   "file_extension": ".py",
   "mimetype": "text/x-python",
   "name": "python",
   "nbconvert_exporter": "python",
   "pygments_lexer": "ipython3",
   "version": "3.8.10"
  }
 },
 "nbformat": 4,
 "nbformat_minor": 2
}
